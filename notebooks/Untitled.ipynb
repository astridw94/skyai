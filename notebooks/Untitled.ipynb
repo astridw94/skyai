{
 "cells": [
  {
   "cell_type": "code",
   "execution_count": 1,
   "id": "8b82729d-9659-4c42-bb96-437fdde5c771",
   "metadata": {},
   "outputs": [],
   "source": [
    "import os\n",
    "import pandas as pd"
   ]
  },
  {
   "cell_type": "code",
   "execution_count": 2,
   "id": "b98e8d3e-d3bf-4dc7-bda7-b2dad473141f",
   "metadata": {},
   "outputs": [
    {
     "name": "stdout",
     "output_type": "stream",
     "text": [
      "   Year  Month Airline Departure Arrival  Price in BRL  Seats\n",
      "0  2023      1     ABJ      SBSV    SIRI         650.0     17\n",
      "1  2023      1     ABJ      SBSV    SIRI         850.0     23\n",
      "2  2023      1     ABJ      SBSV    SIRI        1050.0      6\n",
      "3  2023      1     ABJ      SBSV    SIRI        1250.0      1\n",
      "4  2023      1     ABJ      SBSV    SNCL         450.0      1\n",
      "    Year   Rate  Unnamed: 2  Unnamed: 3  Unnamed: 4  Unnamed: 5  Unnamed: 6\n",
      "0   2021  10.1%         NaN         NaN         NaN         NaN         NaN\n",
      "1   2022   5.8%         NaN         NaN         NaN         NaN         NaN\n",
      "2  20223   4.6%         NaN         NaN         NaN         NaN         NaN\n",
      "      Month  Price (R$)  Monthly Change (%)\n",
      "0  Jan 2021        7.61               12.08\n",
      "1  Feb 2021        8.67               13.93\n",
      "2  Mar 2021        9.38                8.15\n",
      "3  Apr 2021        9.28               -1.01\n",
      "4  May 2021        9.28               -0.05\n"
     ]
    },
    {
     "ename": "KeyError",
     "evalue": "\"['Month'] not in index\"",
     "output_type": "error",
     "traceback": [
      "\u001b[0;31m---------------------------------------------------------------------------\u001b[0m",
      "\u001b[0;31mKeyError\u001b[0m                                  Traceback (most recent call last)",
      "Cell \u001b[0;32mIn[2], line 22\u001b[0m\n\u001b[1;32m     19\u001b[0m ticket_price_df[\u001b[38;5;124m'\u001b[39m\u001b[38;5;124mDate\u001b[39m\u001b[38;5;124m'\u001b[39m] \u001b[38;5;241m=\u001b[39m pd\u001b[38;5;241m.\u001b[39mto_datetime(ticket_price_df[[\u001b[38;5;124m'\u001b[39m\u001b[38;5;124mYear\u001b[39m\u001b[38;5;124m'\u001b[39m, \u001b[38;5;124m'\u001b[39m\u001b[38;5;124mMonth\u001b[39m\u001b[38;5;124m'\u001b[39m]]\u001b[38;5;241m.\u001b[39mastype(\u001b[38;5;28mstr\u001b[39m)\u001b[38;5;241m.\u001b[39magg(\u001b[38;5;124m'\u001b[39m\u001b[38;5;124m-\u001b[39m\u001b[38;5;124m'\u001b[39m\u001b[38;5;241m.\u001b[39mjoin, axis\u001b[38;5;241m=\u001b[39m\u001b[38;5;241m1\u001b[39m), \u001b[38;5;28mformat\u001b[39m\u001b[38;5;241m=\u001b[39m\u001b[38;5;124m'\u001b[39m\u001b[38;5;124m%\u001b[39m\u001b[38;5;124mY-\u001b[39m\u001b[38;5;124m%\u001b[39m\u001b[38;5;124mm\u001b[39m\u001b[38;5;124m'\u001b[39m)\n\u001b[1;32m     21\u001b[0m \u001b[38;5;66;03m# Process inflation_df: Ensure the 'Date' column is properly formatted\u001b[39;00m\n\u001b[0;32m---> 22\u001b[0m inflation_df[\u001b[38;5;124m'\u001b[39m\u001b[38;5;124mDate\u001b[39m\u001b[38;5;124m'\u001b[39m] \u001b[38;5;241m=\u001b[39m pd\u001b[38;5;241m.\u001b[39mto_datetime(\u001b[43minflation_df\u001b[49m\u001b[43m[\u001b[49m\u001b[43m[\u001b[49m\u001b[38;5;124;43m'\u001b[39;49m\u001b[38;5;124;43mYear\u001b[39;49m\u001b[38;5;124;43m'\u001b[39;49m\u001b[43m,\u001b[49m\u001b[43m \u001b[49m\u001b[38;5;124;43m'\u001b[39;49m\u001b[38;5;124;43mMonth\u001b[39;49m\u001b[38;5;124;43m'\u001b[39;49m\u001b[43m]\u001b[49m\u001b[43m]\u001b[49m\u001b[38;5;241m.\u001b[39mastype(\u001b[38;5;28mstr\u001b[39m)\u001b[38;5;241m.\u001b[39magg(\u001b[38;5;124m'\u001b[39m\u001b[38;5;124m-\u001b[39m\u001b[38;5;124m'\u001b[39m\u001b[38;5;241m.\u001b[39mjoin, axis\u001b[38;5;241m=\u001b[39m\u001b[38;5;241m1\u001b[39m), \u001b[38;5;28mformat\u001b[39m\u001b[38;5;241m=\u001b[39m\u001b[38;5;124m'\u001b[39m\u001b[38;5;124m%\u001b[39m\u001b[38;5;124mY-\u001b[39m\u001b[38;5;124m%\u001b[39m\u001b[38;5;124mm\u001b[39m\u001b[38;5;124m'\u001b[39m)\n\u001b[1;32m     24\u001b[0m \u001b[38;5;66;03m# Process jet_fuel_df: Create a 'Date' column\u001b[39;00m\n\u001b[1;32m     25\u001b[0m jet_fuel_df[\u001b[38;5;124m'\u001b[39m\u001b[38;5;124mDate\u001b[39m\u001b[38;5;124m'\u001b[39m] \u001b[38;5;241m=\u001b[39m pd\u001b[38;5;241m.\u001b[39mto_datetime(jet_fuel_df[[\u001b[38;5;124m'\u001b[39m\u001b[38;5;124mYear\u001b[39m\u001b[38;5;124m'\u001b[39m, \u001b[38;5;124m'\u001b[39m\u001b[38;5;124mMonth\u001b[39m\u001b[38;5;124m'\u001b[39m]]\u001b[38;5;241m.\u001b[39mastype(\u001b[38;5;28mstr\u001b[39m)\u001b[38;5;241m.\u001b[39magg(\u001b[38;5;124m'\u001b[39m\u001b[38;5;124m-\u001b[39m\u001b[38;5;124m'\u001b[39m\u001b[38;5;241m.\u001b[39mjoin, axis\u001b[38;5;241m=\u001b[39m\u001b[38;5;241m1\u001b[39m), \u001b[38;5;28mformat\u001b[39m\u001b[38;5;241m=\u001b[39m\u001b[38;5;124m'\u001b[39m\u001b[38;5;124m%\u001b[39m\u001b[38;5;124mY-\u001b[39m\u001b[38;5;124m%\u001b[39m\u001b[38;5;124mm\u001b[39m\u001b[38;5;124m'\u001b[39m)\n",
      "File \u001b[0;32m~/.pyenv/versions/skyenv/lib/python3.10/site-packages/pandas/core/frame.py:4108\u001b[0m, in \u001b[0;36mDataFrame.__getitem__\u001b[0;34m(self, key)\u001b[0m\n\u001b[1;32m   4106\u001b[0m     \u001b[38;5;28;01mif\u001b[39;00m is_iterator(key):\n\u001b[1;32m   4107\u001b[0m         key \u001b[38;5;241m=\u001b[39m \u001b[38;5;28mlist\u001b[39m(key)\n\u001b[0;32m-> 4108\u001b[0m     indexer \u001b[38;5;241m=\u001b[39m \u001b[38;5;28;43mself\u001b[39;49m\u001b[38;5;241;43m.\u001b[39;49m\u001b[43mcolumns\u001b[49m\u001b[38;5;241;43m.\u001b[39;49m\u001b[43m_get_indexer_strict\u001b[49m\u001b[43m(\u001b[49m\u001b[43mkey\u001b[49m\u001b[43m,\u001b[49m\u001b[43m \u001b[49m\u001b[38;5;124;43m\"\u001b[39;49m\u001b[38;5;124;43mcolumns\u001b[39;49m\u001b[38;5;124;43m\"\u001b[39;49m\u001b[43m)\u001b[49m[\u001b[38;5;241m1\u001b[39m]\n\u001b[1;32m   4110\u001b[0m \u001b[38;5;66;03m# take() does not accept boolean indexers\u001b[39;00m\n\u001b[1;32m   4111\u001b[0m \u001b[38;5;28;01mif\u001b[39;00m \u001b[38;5;28mgetattr\u001b[39m(indexer, \u001b[38;5;124m\"\u001b[39m\u001b[38;5;124mdtype\u001b[39m\u001b[38;5;124m\"\u001b[39m, \u001b[38;5;28;01mNone\u001b[39;00m) \u001b[38;5;241m==\u001b[39m \u001b[38;5;28mbool\u001b[39m:\n",
      "File \u001b[0;32m~/.pyenv/versions/skyenv/lib/python3.10/site-packages/pandas/core/indexes/base.py:6200\u001b[0m, in \u001b[0;36mIndex._get_indexer_strict\u001b[0;34m(self, key, axis_name)\u001b[0m\n\u001b[1;32m   6197\u001b[0m \u001b[38;5;28;01melse\u001b[39;00m:\n\u001b[1;32m   6198\u001b[0m     keyarr, indexer, new_indexer \u001b[38;5;241m=\u001b[39m \u001b[38;5;28mself\u001b[39m\u001b[38;5;241m.\u001b[39m_reindex_non_unique(keyarr)\n\u001b[0;32m-> 6200\u001b[0m \u001b[38;5;28;43mself\u001b[39;49m\u001b[38;5;241;43m.\u001b[39;49m\u001b[43m_raise_if_missing\u001b[49m\u001b[43m(\u001b[49m\u001b[43mkeyarr\u001b[49m\u001b[43m,\u001b[49m\u001b[43m \u001b[49m\u001b[43mindexer\u001b[49m\u001b[43m,\u001b[49m\u001b[43m \u001b[49m\u001b[43maxis_name\u001b[49m\u001b[43m)\u001b[49m\n\u001b[1;32m   6202\u001b[0m keyarr \u001b[38;5;241m=\u001b[39m \u001b[38;5;28mself\u001b[39m\u001b[38;5;241m.\u001b[39mtake(indexer)\n\u001b[1;32m   6203\u001b[0m \u001b[38;5;28;01mif\u001b[39;00m \u001b[38;5;28misinstance\u001b[39m(key, Index):\n\u001b[1;32m   6204\u001b[0m     \u001b[38;5;66;03m# GH 42790 - Preserve name from an Index\u001b[39;00m\n",
      "File \u001b[0;32m~/.pyenv/versions/skyenv/lib/python3.10/site-packages/pandas/core/indexes/base.py:6252\u001b[0m, in \u001b[0;36mIndex._raise_if_missing\u001b[0;34m(self, key, indexer, axis_name)\u001b[0m\n\u001b[1;32m   6249\u001b[0m     \u001b[38;5;28;01mraise\u001b[39;00m \u001b[38;5;167;01mKeyError\u001b[39;00m(\u001b[38;5;124mf\u001b[39m\u001b[38;5;124m\"\u001b[39m\u001b[38;5;124mNone of [\u001b[39m\u001b[38;5;132;01m{\u001b[39;00mkey\u001b[38;5;132;01m}\u001b[39;00m\u001b[38;5;124m] are in the [\u001b[39m\u001b[38;5;132;01m{\u001b[39;00maxis_name\u001b[38;5;132;01m}\u001b[39;00m\u001b[38;5;124m]\u001b[39m\u001b[38;5;124m\"\u001b[39m)\n\u001b[1;32m   6251\u001b[0m not_found \u001b[38;5;241m=\u001b[39m \u001b[38;5;28mlist\u001b[39m(ensure_index(key)[missing_mask\u001b[38;5;241m.\u001b[39mnonzero()[\u001b[38;5;241m0\u001b[39m]]\u001b[38;5;241m.\u001b[39munique())\n\u001b[0;32m-> 6252\u001b[0m \u001b[38;5;28;01mraise\u001b[39;00m \u001b[38;5;167;01mKeyError\u001b[39;00m(\u001b[38;5;124mf\u001b[39m\u001b[38;5;124m\"\u001b[39m\u001b[38;5;132;01m{\u001b[39;00mnot_found\u001b[38;5;132;01m}\u001b[39;00m\u001b[38;5;124m not in index\u001b[39m\u001b[38;5;124m\"\u001b[39m)\n",
      "\u001b[0;31mKeyError\u001b[0m: \"['Month'] not in index\""
     ]
    }
   ],
   "source": [
    "import pandas as pd\n",
    "\n",
    "# File paths\n",
    "ticket_price_file = '/Users/sannanijaz/Downloads/brazil_fares_final.csv'\n",
    "inflation_file = '/Users/sannanijaz/Downloads/inflation.csv'\n",
    "jet_fuel_file = '/Users/sannanijaz/Downloads/jet_fuel.xlsx'\n",
    "\n",
    "# Load the dataframes\n",
    "ticket_price_df = pd.read_csv(ticket_price_file)\n",
    "inflation_df = pd.read_csv(inflation_file)\n",
    "jet_fuel_df = pd.read_excel(jet_fuel_file)\n",
    "\n",
    "# Display the first few rows of each dataframe to inspect the data\n",
    "print(ticket_price_df.head())\n",
    "print(inflation_df.head())\n",
    "print(jet_fuel_df.head())\n",
    "\n",
    "# Process ticket_price_df: Create a 'Date' column\n",
    "ticket_price_df['Date'] = pd.to_datetime(ticket_price_df[['Year', 'Month']].astype(str).agg('-'.join, axis=1), format='%Y-%m')\n",
    "\n",
    "# Process inflation_df: Ensure the 'Date' column is properly formatted\n",
    "inflation_df['Date'] = pd.to_datetime(inflation_df[['Year', 'Month']].astype(str).agg('-'.join, axis=1), format='%Y-%m')\n",
    "\n",
    "# Process jet_fuel_df: Create a 'Date' column\n",
    "jet_fuel_df['Date'] = pd.to_datetime(jet_fuel_df[['Year', 'Month']].astype(str).agg('-'.join, axis=1), format='%Y-%m')\n",
    "\n",
    "# Merge the dataframes on the 'Date' column\n",
    "merged_df = pd.merge(ticket_price_df, inflation_df, on='Date', how='outer')\n",
    "merged_df = pd.merge(merged_df, jet_fuel_df, on='Date', how='outer')\n",
    "\n",
    "# Sort the data by 'Date'\n",
    "merged_df = merged_df.sort_values('Date')\n",
    "\n",
    "# Display the first few rows of the combined dataframe\n",
    "print(merged_df.head())\n",
    "\n"
   ]
  },
  {
   "cell_type": "code",
   "execution_count": null,
   "id": "59adf27f-21c6-40f3-a2ca-371ab42e9af8",
   "metadata": {},
   "outputs": [],
   "source": [
    "# Replace NaN values with 0 in the dataframes\n",
    "ticket_price_df.fillna(0, inplace=True)\n",
    "inflation_df.fillna(0, inplace=True)\n",
    "jet_fuel_df.fillna(0, inplace=True)\n",
    "\n",
    "# Check the result by displaying the first few rows\n",
    "print(\"Ticket Price DataFrame with NaN replaced:\")\n",
    "print(ticket_price_df.head())\n",
    "\n",
    "print(\"\\nInflation DataFrame with NaN replaced:\")\n",
    "print(inflation_df.head())\n",
    "\n",
    "print(\"\\nJet Fuel DataFrame with NaN replaced:\")\n",
    "print(jet_fuel_df.head())\n"
   ]
  },
  {
   "cell_type": "code",
   "execution_count": null,
   "id": "42d9c2f1-dcfd-49f2-afaa-aa233e01ad55",
   "metadata": {},
   "outputs": [],
   "source": [
    "\n",
    "# Merge ticket_price_df with inflation_df on 'Year' (and 'Month' if necessary)\n",
    "merged_df = pd.merge(ticket_price_df, inflation_df[['Year', 'Rate']], on='Year', how='left')\n"
   ]
  },
  {
   "cell_type": "code",
   "execution_count": null,
   "id": "31d65b42-6202-4e2f-b10a-f222b1582cf0",
   "metadata": {},
   "outputs": [],
   "source": [
    "# Merge with jet_fuel_df on 'Month', assuming jet_fuel_df has 'Month' as string (e.g., 'Jan')\n",
    "# We'll need to ensure that 'Month' is in the same format (numeric or string) across DataFrames\n",
    "merged_df['Month'] = merged_df['Month'].apply(lambda x: str(x).zfill(2))  # Make sure months are 2 digits (01, 02, etc.)\n",
    "\n",
    "# Merge the DataFrame with jet_fuel_df\n",
    "merged_df = pd.merge(merged_df, jet_fuel_df[['Month', 'Price (R$)']], on='Month', how='left')\n",
    "\n",
    "# Check the result\n",
    "print(\"Combined DataFrame:\")\n",
    "print(merged_df.head())\n"
   ]
  },
  {
   "cell_type": "code",
   "execution_count": null,
   "id": "cd5b9f81-4754-4ef9-b89e-64a3217820aa",
   "metadata": {},
   "outputs": [],
   "source": [
    "# Replace NaN values with 0\n",
    "merged_df.fillna(0, inplace=True)\n",
    "\n",
    "# Final check of the DataFrame\n",
    "print(\"Final Combined DataFrame with NaN replaced by 0:\")\n",
    "print(merged_df.head())\n"
   ]
  },
  {
   "cell_type": "code",
   "execution_count": null,
   "id": "87847518-1173-4788-a0f1-f15c1e2333ed",
   "metadata": {},
   "outputs": [],
   "source": [
    "merged_df.tail()"
   ]
  },
  {
   "cell_type": "code",
   "execution_count": null,
   "id": "4d077301-dff2-4e86-b3ae-992546f9c451",
   "metadata": {},
   "outputs": [],
   "source": []
  },
  {
   "cell_type": "code",
   "execution_count": null,
   "id": "da3c31fa-823e-47c5-a8e9-cc8d2c2828e6",
   "metadata": {},
   "outputs": [],
   "source": [
    "!git branch\n"
   ]
  },
  {
   "cell_type": "code",
   "execution_count": null,
   "id": "879d1a7b-aaa5-4bf4-b7ea-a52631ea30f3",
   "metadata": {},
   "outputs": [],
   "source": []
  }
 ],
 "metadata": {
  "kernelspec": {
   "display_name": "Python 3 (ipykernel)",
   "language": "python",
   "name": "python3"
  },
  "language_info": {
   "codemirror_mode": {
    "name": "ipython",
    "version": 3
   },
   "file_extension": ".py",
   "mimetype": "text/x-python",
   "name": "python",
   "nbconvert_exporter": "python",
   "pygments_lexer": "ipython3",
   "version": "3.10.6"
  }
 },
 "nbformat": 4,
 "nbformat_minor": 5
}
