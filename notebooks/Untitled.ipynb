{
 "cells": [
  {
   "cell_type": "code",
   "execution_count": 1,
   "id": "8b82729d-9659-4c42-bb96-437fdde5c771",
   "metadata": {},
   "outputs": [],
   "source": [
    "import os\n",
    "import pandas as pd"
   ]
  },
  {
   "cell_type": "code",
   "execution_count": 3,
   "id": "b98e8d3e-d3bf-4dc7-bda7-b2dad473141f",
   "metadata": {},
   "outputs": [],
   "source": [
    "import pandas as pd\n",
    "\n",
    "# Step 1: Read the CSV files from the provided path\n",
    "flight_df = pd.read_csv('/Users/sannanijaz/Downloads/brazil_fares_final.csv')\n",
    "jet_fuel_df = pd.read_csv('/Users/sannanijaz/Downloads/jet_fuel.csv')\n",
    "inflation_df = pd.read_csv('/Users/sannanijaz/Downloads/inflation.csv')\n",
    "\n",
    "# Step 2: Ensure 'Year' and 'Month' columns are consistent and of correct data types\n",
    "flight_df['Year'] = flight_df['Year'].astype(int)\n",
    "flight_df['Month'] = flight_df['Month'].astype(int)\n",
    "\n",
    "jet_fuel_df['Year'] = jet_fuel_df['Year'].astype(int)\n",
    "jet_fuel_df['Month'] = jet_fuel_df['Month'].astype(int)\n",
    "\n",
    "inflation_df['Year'] = inflation_df['Year'].astype(int)\n",
    "inflation_df['Month'] = inflation_df['Month'].astype(int)\n",
    "\n",
    "\n",
    "\n",
    "\n",
    "\n",
    "\n",
    "\n"
   ]
  },
  {
   "cell_type": "code",
   "execution_count": 4,
   "id": "c795e9bb-f075-480e-802e-2eefe9c25c0b",
   "metadata": {},
   "outputs": [
    {
     "name": "stdout",
     "output_type": "stream",
     "text": [
      "<bound method NDFrame.head of           Year  Month Airline Departure Arrival  Price in BRL  Seats\n",
      "0         2023      1     ABJ      SBSV    SIRI         650.0     17\n",
      "1         2023      1     ABJ      SBSV    SIRI         850.0     23\n",
      "2         2023      1     ABJ      SBSV    SIRI        1050.0      6\n",
      "3         2023      1     ABJ      SBSV    SIRI        1250.0      1\n",
      "4         2023      1     ABJ      SBSV    SNCL         450.0      1\n",
      "...        ...    ...     ...       ...     ...           ...    ...\n",
      "12268537  2021     11     TAM      SBVT    SBUL         742.0      3\n",
      "12268538  2021     11     TAM      SBVT    SBUL         925.0      2\n",
      "12268539  2021     11     TAM      SBVT    SBUL        1040.0      2\n",
      "12268540  2021     11     TAM      SBVT    SBUL        1512.0      1\n",
      "12268541  2021     11     TAM      SBVT    SBUL        1623.0      1\n",
      "\n",
      "[12268542 rows x 7 columns]>\n"
     ]
    }
   ],
   "source": [
    "print(flight_df.head)"
   ]
  },
  {
   "cell_type": "code",
   "execution_count": 5,
   "id": "48bd4000-4aab-4f14-a051-5ac5ac8f2ace",
   "metadata": {},
   "outputs": [
    {
     "name": "stdout",
     "output_type": "stream",
     "text": [
      "<bound method NDFrame.head of     Year  Month  Price (R$)  Monthly Change (%)  Unnamed: 4  Unnamed: 5\n",
      "0   2021      1        7.61               12.08         NaN         NaN\n",
      "1   2021      2        8.67               13.93         NaN         NaN\n",
      "2   2021      3        9.38                8.15         NaN         NaN\n",
      "3   2021      4        9.28               -1.01         NaN         NaN\n",
      "4   2021      5        9.28               -0.05         NaN         NaN\n",
      "5   2021      6        9.33                0.60         NaN         NaN\n",
      "6   2021      7        9.75                4.45         NaN         NaN\n",
      "7   2021      8        9.54               -2.14         NaN         NaN\n",
      "8   2021      9       10.62               11.34         NaN         NaN\n",
      "9   2021     10       12.72               19.76         NaN         NaN\n",
      "10  2021     11       12.18               -4.26         NaN         NaN\n",
      "11  2021     12       11.85               -2.72         NaN         NaN\n",
      "12  2022      1       13.55               14.38         NaN         NaN\n",
      "13  2022      2       13.95                2.94         NaN         NaN\n",
      "14  2022      3       17.46               25.17         NaN         NaN\n",
      "15  2022      4       18.64                6.78         NaN         NaN\n",
      "16  2022      5       19.47                4.41         NaN         NaN\n",
      "17  2022      6       20.73                6.48         NaN         NaN\n",
      "18  2022      7       18.67               -9.91         NaN         NaN\n",
      "19  2022      8       17.17               -8.04         NaN         NaN\n",
      "20  2022      9       17.06               -0.63         NaN         NaN\n",
      "21  2022     10       19.51               14.35         NaN         NaN\n",
      "22  2022     11       16.65              -14.69         NaN         NaN\n",
      "23  2022     12       15.19               -8.74         NaN         NaN\n",
      "24  2023      1       18.43               21.30         NaN         NaN\n",
      "25  2023      2       14.43              -21.71         NaN         NaN\n",
      "26  2023      3       13.98               -3.10         NaN         NaN\n",
      "27  2023      4       11.92              -14.77         NaN         NaN\n",
      "28  2023      5       10.81               -9.25         NaN         NaN\n",
      "29  2023      6       10.92                0.98         NaN         NaN\n",
      "30  2023      7       11.94                9.40         NaN         NaN\n",
      "31  2023      8       14.65               22.70         NaN         NaN\n",
      "32  2023      9       15.42                5.21         NaN         NaN\n",
      "33  2023     10       14.58               -5.47         NaN         NaN\n",
      "34  2023     11       13.39               -8.11         NaN         NaN\n",
      "35  2023     12       11.72              -12.46         NaN         NaN>\n"
     ]
    }
   ],
   "source": [
    "print(jet_fuel_df.head)"
   ]
  },
  {
   "cell_type": "code",
   "execution_count": 6,
   "id": "f54ba710-32f8-40d1-8cb7-1a09f0bf397d",
   "metadata": {},
   "outputs": [
    {
     "name": "stdout",
     "output_type": "stream",
     "text": [
      "<bound method NDFrame.head of     Year  Month   Rate  Unnamed: 3  Unnamed: 4  Unnamed: 5  Unnamed: 6\n",
      "0   2021      1  10.1%         NaN         NaN         NaN         NaN\n",
      "1   2021      2  10.1%         NaN         NaN         NaN         NaN\n",
      "2   2021      3  10.1%         NaN         NaN         NaN         NaN\n",
      "3   2021      4  10.1%         NaN         NaN         NaN         NaN\n",
      "4   2021      5  10.1%         NaN         NaN         NaN         NaN\n",
      "5   2021      6  10.1%         NaN         NaN         NaN         NaN\n",
      "6   2021      7  10.1%         NaN         NaN         NaN         NaN\n",
      "7   2021      8  10.1%         NaN         NaN         NaN         NaN\n",
      "8   2021      9  10.1%         NaN         NaN         NaN         NaN\n",
      "9   2021     10  10.1%         NaN         NaN         NaN         NaN\n",
      "10  2021     11  10.1%         NaN         NaN         NaN         NaN\n",
      "11  2021     12  10.1%         NaN         NaN         NaN         NaN\n",
      "12  2022      1   5.8%         NaN         NaN         NaN         NaN\n",
      "13  2022      2   5.8%         NaN         NaN         NaN         NaN\n",
      "14  2022      3   5.8%         NaN         NaN         NaN         NaN\n",
      "15  2022      4   5.8%         NaN         NaN         NaN         NaN\n",
      "16  2022      5   5.8%         NaN         NaN         NaN         NaN\n",
      "17  2022      6   5.8%         NaN         NaN         NaN         NaN\n",
      "18  2022      7   5.8%         NaN         NaN         NaN         NaN\n",
      "19  2022      8   5.8%         NaN         NaN         NaN         NaN\n",
      "20  2022      9   5.8%         NaN         NaN         NaN         NaN\n",
      "21  2022     10   5.8%         NaN         NaN         NaN         NaN\n",
      "22  2022     11   5.8%         NaN         NaN         NaN         NaN\n",
      "23  2022     12   5.8%         NaN         NaN         NaN         NaN\n",
      "24  2023      1   4.6%         NaN         NaN         NaN         NaN\n",
      "25  2023      2   4.6%         NaN         NaN         NaN         NaN\n",
      "26  2023      3   4.6%         NaN         NaN         NaN         NaN\n",
      "27  2023      4   4.6%         NaN         NaN         NaN         NaN\n",
      "28  2023      5   4.6%         NaN         NaN         NaN         NaN\n",
      "29  2023      6   4.6%         NaN         NaN         NaN         NaN\n",
      "30  2023      7   4.6%         NaN         NaN         NaN         NaN\n",
      "31  2023      8   4.6%         NaN         NaN         NaN         NaN\n",
      "32  2023      9   4.6%         NaN         NaN         NaN         NaN\n",
      "33  2023     10   4.6%         NaN         NaN         NaN         NaN\n",
      "34  2023     11   4.6%         NaN         NaN         NaN         NaN\n",
      "35  2023     12   4.6%         NaN         NaN         NaN         NaN>\n"
     ]
    }
   ],
   "source": [
    "print(inflation_df.head)"
   ]
  },
  {
   "cell_type": "code",
   "execution_count": 7,
   "id": "566d1759-c941-494d-9914-210a8454a459",
   "metadata": {},
   "outputs": [
    {
     "name": "stdout",
     "output_type": "stream",
     "text": [
      "   Year  Month Airline Departure Arrival  Price in BRL  Seats  \\\n",
      "0  2023      1     ABJ      SBSV    SIRI         650.0     17   \n",
      "1  2023      1     ABJ      SBSV    SIRI         850.0     23   \n",
      "2  2023      1     ABJ      SBSV    SIRI        1050.0      6   \n",
      "3  2023      1     ABJ      SBSV    SIRI        1250.0      1   \n",
      "4  2023      1     ABJ      SBSV    SNCL         450.0      1   \n",
      "\n",
      "   Jet Fuel Price (R$)  \n",
      "0                18.43  \n",
      "1                18.43  \n",
      "2                18.43  \n",
      "3                18.43  \n",
      "4                18.43  \n"
     ]
    }
   ],
   "source": [
    "# Step 1: Merge the flight_df with jet_fuel_df based on 'Year' and 'Month'\n",
    "merged_df = pd.merge(flight_df, jet_fuel_df[['Year', 'Month', 'Price (R$)']], on=['Year', 'Month'], how='left')\n",
    "\n",
    "# Step 2: Rename the column for clarity\n",
    "merged_df.rename(columns={'Price (R$)': 'Jet Fuel Price (R$)'}, inplace=True)\n",
    "\n",
    "# Step 3: Display the first few rows of the merged dataframe to check\n",
    "print(merged_df.head())\n"
   ]
  },
  {
   "cell_type": "code",
   "execution_count": 8,
   "id": "51952201-2a1e-463d-a0f8-c5ed2f059e6f",
   "metadata": {},
   "outputs": [
    {
     "name": "stdout",
     "output_type": "stream",
     "text": [
      "   Year  Month Airline Departure Arrival  Price in BRL  Seats  \\\n",
      "0  2023      1     ABJ      SBSV    SIRI         650.0     17   \n",
      "1  2023      1     ABJ      SBSV    SIRI         850.0     23   \n",
      "2  2023      1     ABJ      SBSV    SIRI        1050.0      6   \n",
      "3  2023      1     ABJ      SBSV    SIRI        1250.0      1   \n",
      "4  2023      1     ABJ      SBSV    SNCL         450.0      1   \n",
      "\n",
      "   Jet Fuel Price (R$) Inflation Rate (%)  \n",
      "0                18.43               4.6%  \n",
      "1                18.43               4.6%  \n",
      "2                18.43               4.6%  \n",
      "3                18.43               4.6%  \n",
      "4                18.43               4.6%  \n"
     ]
    }
   ],
   "source": [
    "# Step 1: Merge the merged_df with inflation_df based on 'Year' and 'Month'\n",
    "final_df = pd.merge(merged_df, inflation_df[['Year', 'Month', 'Rate']], on=['Year', 'Month'], how='left')\n",
    "\n",
    "# Step 2: Rename the column for clarity\n",
    "final_df.rename(columns={'Rate': 'Inflation Rate (%)'}, inplace=True)\n",
    "\n",
    "# Step 3: Display the first few rows of the final dataframe to check\n",
    "print(final_df.head())\n"
   ]
  },
  {
   "cell_type": "code",
   "execution_count": 9,
   "id": "9e618763-7db8-4891-b498-2cf41925f011",
   "metadata": {},
   "outputs": [],
   "source": [
    "final_df.to_csv('final_dataframe.csv', index=False)\n"
   ]
  },
  {
   "cell_type": "code",
   "execution_count": 10,
   "id": "504a3ffa-c087-4d42-98e0-6bc6f2fde994",
   "metadata": {},
   "outputs": [
    {
     "name": "stdout",
     "output_type": "stream",
     "text": [
      "/Users/sannanijaz/code/sannan-ijaz123/skyai/notebooks\n"
     ]
    }
   ],
   "source": [
    "import os\n",
    "print(os.getcwd())"
   ]
  },
  {
   "cell_type": "code",
   "execution_count": 11,
   "id": "c7895575-3e49-4e05-b3ba-5577ef4dcabc",
   "metadata": {},
   "outputs": [],
   "source": [
    "final_df.to_csv('/Users/sannanijaz/Downloads/final_dataframe.csv', index=False)\n"
   ]
  },
  {
   "cell_type": "code",
   "execution_count": 12,
   "id": "da3c31fa-823e-47c5-a8e9-cc8d2c2828e6",
   "metadata": {},
   "outputs": [
    {
     "name": "stdout",
     "output_type": "stream",
     "text": [
      "  conc\u001b[m\n",
      "* \u001b[32mmain\u001b[m\n"
     ]
    }
   ],
   "source": [
    "!git branch\n"
   ]
  },
  {
   "cell_type": "code",
   "execution_count": 18,
   "id": "a7f4c45e-3117-49cf-8ca5-b7a1db8f9334",
   "metadata": {},
   "outputs": [
    {
     "name": "stdout",
     "output_type": "stream",
     "text": [
      "Switched to branch 'conc'\n",
      "Your branch is up to date with 'origin/conc'.\n"
     ]
    }
   ],
   "source": [
    "!git checkout conc"
   ]
  },
  {
   "cell_type": "code",
   "execution_count": 15,
   "id": "879d1a7b-aaa5-4bf4-b7ea-a52631ea30f3",
   "metadata": {},
   "outputs": [
    {
     "name": "stdout",
     "output_type": "stream",
     "text": [
      "[main f6f1c15] Your commit message\n",
      " 1 file changed, 18 insertions(+), 8 deletions(-)\n"
     ]
    }
   ],
   "source": [
    "!git add .\n",
    "!git commit -m \"Your commit message\"\n"
   ]
  },
  {
   "cell_type": "code",
   "execution_count": 16,
   "id": "afc9ef51-8e3b-471c-bbc9-b398c6ac70f0",
   "metadata": {},
   "outputs": [
    {
     "name": "stdout",
     "output_type": "stream",
     "text": [
      "Everything up-to-date\n"
     ]
    }
   ],
   "source": [
    "!git push origin conc\n"
   ]
  },
  {
   "cell_type": "code",
   "execution_count": 17,
   "id": "9f740ce5-b5a1-4497-8676-71781bcf858f",
   "metadata": {},
   "outputs": [
    {
     "name": "stdout",
     "output_type": "stream",
     "text": [
      "Already on 'main'\n",
      "Your branch is ahead of 'origin/main' by 2 commits.\n",
      "  (use \"git push\" to publish your local commits)\n",
      "Enumerating objects: 11, done.\n",
      "Counting objects: 100% (11/11), done.\n",
      "Delta compression using up to 8 threads\n",
      "Compressing objects: 100% (9/9), done.\n",
      "Writing objects: 100% (9/9), 52.32 MiB | 929.00 KiB/s, done.\n",
      "Total 9 (delta 4), reused 0 (delta 0), pack-reused 0 (from 0)\n",
      "remote: Resolving deltas: 100% (4/4), completed with 1 local object.\u001b[K\n",
      "remote: \u001b[1;31merror\u001b[m: Trace: f3aba68aa78560a3d4c17bb882f76ef6f0057705406e7576799138cb5d47fbb5\u001b[K\n",
      "remote: \u001b[1;31merror\u001b[m: See https://gh.io/lfs for more information.\u001b[K\n",
      "remote: \u001b[1;31merror\u001b[m: File notebooks/final_dataframe.csv is 481.22 MB; this exceeds GitHub's file size limit of 100.00 MB\u001b[K\n",
      "remote: \u001b[1;31merror\u001b[m: GH001: Large files detected. You may want to try Git Large File Storage - https://git-lfs.github.com.\u001b[K\n",
      "To github.com:astridw94/skyai.git\n",
      " \u001b[31m! [remote rejected]\u001b[m main -> main (pre-receive hook declined)\n",
      "\u001b[31merror: failed to push some refs to 'github.com:astridw94/skyai.git'\n",
      "\u001b[m"
     ]
    }
   ],
   "source": [
    "!git checkout main\n",
    "!git push origin main"
   ]
  },
  {
   "cell_type": "code",
   "execution_count": null,
   "id": "3390c1b2-bf6c-4d5a-9ee7-91cd525ff68b",
   "metadata": {},
   "outputs": [],
   "source": []
  }
 ],
 "metadata": {
  "kernelspec": {
   "display_name": "Python 3 (ipykernel)",
   "language": "python",
   "name": "python3"
  },
  "language_info": {
   "codemirror_mode": {
    "name": "ipython",
    "version": 3
   },
   "file_extension": ".py",
   "mimetype": "text/x-python",
   "name": "python",
   "nbconvert_exporter": "python",
   "pygments_lexer": "ipython3",
   "version": "3.10.6"
  }
 },
 "nbformat": 4,
 "nbformat_minor": 5
}
