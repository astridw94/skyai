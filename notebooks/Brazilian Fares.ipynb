{
 "cells": [
  {
   "cell_type": "markdown",
   "metadata": {},
   "source": [
    "## Data Exploration Brazilian Fares \n"
   ]
  },
  {
   "cell_type": "code",
   "execution_count": null,
   "metadata": {},
   "outputs": [],
   "source": []
  },
  {
   "cell_type": "code",
   "execution_count": null,
   "metadata": {},
   "outputs": [
    {
     "name": "stdout",
     "output_type": "stream",
     "text": [
      "The autoreload extension is already loaded. To reload it, use:\n",
      "  %reload_ext autoreload\n"
     ]
    }
   ],
   "source": [
    "%load_ext autoreload\n",
    "%autoreload 2"
   ]
  },
  {
   "cell_type": "code",
   "execution_count": 97,
   "metadata": {},
   "outputs": [],
   "source": [
    "# Imports\n",
    "import os\n",
    "import pandas as pd\n",
    "import requests\n",
    "#from google.colab import auth\n",
    "#from google.colab import drive\n",
    "\n",
    "# Data Viz\n",
    "import matplotlib.pyplot as plt\n",
    "import seaborn as sns"
   ]
  },
  {
   "cell_type": "markdown",
   "metadata": {},
   "source": [
    "# Downloading the cleaned data from the CSV file"
   ]
  },
  {
   "cell_type": "code",
   "execution_count": 98,
   "metadata": {},
   "outputs": [
    {
     "name": "stdout",
     "output_type": "stream",
     "text": [
      "   Year  Month Airline Departure Arrival  Price in BRL  Seats\n",
      "0  2023      1     ABJ      SBSV    SIRI         650.0     17\n",
      "1  2023      1     ABJ      SBSV    SIRI         850.0     23\n",
      "2  2023      1     ABJ      SBSV    SIRI        1050.0      6\n",
      "3  2023      1     ABJ      SBSV    SIRI        1250.0      1\n",
      "4  2023      1     ABJ      SBSV    SNCL         450.0      1\n"
     ]
    }
   ],
   "source": [
    "# Path to the CSV file\n",
    "my_path = \"/Users/williamtordo/code/skyai/data/brazil_flight_fares_final.csv\"\n",
    "\n",
    "# Google Drive link\n",
    "#https://drive.google.com/file/d/1kuQARGVH1JmeIjbB393AYTHI3fQlD696/view?usp=drive_link\n",
    "\n",
    "#export GOOGLE_APPLICATION_CREDENTIALS=\"/path/to/your/service-account-key.json\"\n",
    "\n",
    "\n",
    "# Reading the CSV file into a DataFrame\n",
    "try:\n",
    "    my_df = pd.read_csv(my_path)\n",
    "    print(my_df.head())  # Display the first few rows of the DataFrame\n",
    "except FileNotFoundError:\n",
    "    print(f\"File not found at the specified path: {my_path}\")\n",
    "except pd.errors.ParserError:\n",
    "    print(\"There was an error parsing the CSV file. Please check its format.\")\n"
   ]
  },
  {
   "cell_type": "code",
   "execution_count": 99,
   "metadata": {},
   "outputs": [
    {
     "data": {
      "text/html": [
       "<div>\n",
       "<style scoped>\n",
       "    .dataframe tbody tr th:only-of-type {\n",
       "        vertical-align: middle;\n",
       "    }\n",
       "\n",
       "    .dataframe tbody tr th {\n",
       "        vertical-align: top;\n",
       "    }\n",
       "\n",
       "    .dataframe thead th {\n",
       "        text-align: right;\n",
       "    }\n",
       "</style>\n",
       "<table border=\"1\" class=\"dataframe\">\n",
       "  <thead>\n",
       "    <tr style=\"text-align: right;\">\n",
       "      <th></th>\n",
       "      <th>Year</th>\n",
       "      <th>Month</th>\n",
       "      <th>Airline</th>\n",
       "      <th>Departure</th>\n",
       "      <th>Arrival</th>\n",
       "      <th>Price in BRL</th>\n",
       "      <th>Seats</th>\n",
       "    </tr>\n",
       "  </thead>\n",
       "  <tbody>\n",
       "    <tr>\n",
       "      <th>0</th>\n",
       "      <td>2023</td>\n",
       "      <td>1</td>\n",
       "      <td>ABJ</td>\n",
       "      <td>SBSV</td>\n",
       "      <td>SIRI</td>\n",
       "      <td>650.0</td>\n",
       "      <td>17</td>\n",
       "    </tr>\n",
       "    <tr>\n",
       "      <th>1</th>\n",
       "      <td>2023</td>\n",
       "      <td>1</td>\n",
       "      <td>ABJ</td>\n",
       "      <td>SBSV</td>\n",
       "      <td>SIRI</td>\n",
       "      <td>850.0</td>\n",
       "      <td>23</td>\n",
       "    </tr>\n",
       "    <tr>\n",
       "      <th>2</th>\n",
       "      <td>2023</td>\n",
       "      <td>1</td>\n",
       "      <td>ABJ</td>\n",
       "      <td>SBSV</td>\n",
       "      <td>SIRI</td>\n",
       "      <td>1050.0</td>\n",
       "      <td>6</td>\n",
       "    </tr>\n",
       "    <tr>\n",
       "      <th>3</th>\n",
       "      <td>2023</td>\n",
       "      <td>1</td>\n",
       "      <td>ABJ</td>\n",
       "      <td>SBSV</td>\n",
       "      <td>SIRI</td>\n",
       "      <td>1250.0</td>\n",
       "      <td>1</td>\n",
       "    </tr>\n",
       "    <tr>\n",
       "      <th>4</th>\n",
       "      <td>2023</td>\n",
       "      <td>1</td>\n",
       "      <td>ABJ</td>\n",
       "      <td>SBSV</td>\n",
       "      <td>SNCL</td>\n",
       "      <td>450.0</td>\n",
       "      <td>1</td>\n",
       "    </tr>\n",
       "    <tr>\n",
       "      <th>...</th>\n",
       "      <td>...</td>\n",
       "      <td>...</td>\n",
       "      <td>...</td>\n",
       "      <td>...</td>\n",
       "      <td>...</td>\n",
       "      <td>...</td>\n",
       "      <td>...</td>\n",
       "    </tr>\n",
       "    <tr>\n",
       "      <th>12268537</th>\n",
       "      <td>2021</td>\n",
       "      <td>11</td>\n",
       "      <td>TAM</td>\n",
       "      <td>SBVT</td>\n",
       "      <td>SBUL</td>\n",
       "      <td>742.0</td>\n",
       "      <td>3</td>\n",
       "    </tr>\n",
       "    <tr>\n",
       "      <th>12268538</th>\n",
       "      <td>2021</td>\n",
       "      <td>11</td>\n",
       "      <td>TAM</td>\n",
       "      <td>SBVT</td>\n",
       "      <td>SBUL</td>\n",
       "      <td>925.0</td>\n",
       "      <td>2</td>\n",
       "    </tr>\n",
       "    <tr>\n",
       "      <th>12268539</th>\n",
       "      <td>2021</td>\n",
       "      <td>11</td>\n",
       "      <td>TAM</td>\n",
       "      <td>SBVT</td>\n",
       "      <td>SBUL</td>\n",
       "      <td>1040.0</td>\n",
       "      <td>2</td>\n",
       "    </tr>\n",
       "    <tr>\n",
       "      <th>12268540</th>\n",
       "      <td>2021</td>\n",
       "      <td>11</td>\n",
       "      <td>TAM</td>\n",
       "      <td>SBVT</td>\n",
       "      <td>SBUL</td>\n",
       "      <td>1512.0</td>\n",
       "      <td>1</td>\n",
       "    </tr>\n",
       "    <tr>\n",
       "      <th>12268541</th>\n",
       "      <td>2021</td>\n",
       "      <td>11</td>\n",
       "      <td>TAM</td>\n",
       "      <td>SBVT</td>\n",
       "      <td>SBUL</td>\n",
       "      <td>1623.0</td>\n",
       "      <td>1</td>\n",
       "    </tr>\n",
       "  </tbody>\n",
       "</table>\n",
       "<p>12268542 rows × 7 columns</p>\n",
       "</div>"
      ],
      "text/plain": [
       "          Year  Month Airline Departure Arrival  Price in BRL  Seats\n",
       "0         2023      1     ABJ      SBSV    SIRI         650.0     17\n",
       "1         2023      1     ABJ      SBSV    SIRI         850.0     23\n",
       "2         2023      1     ABJ      SBSV    SIRI        1050.0      6\n",
       "3         2023      1     ABJ      SBSV    SIRI        1250.0      1\n",
       "4         2023      1     ABJ      SBSV    SNCL         450.0      1\n",
       "...        ...    ...     ...       ...     ...           ...    ...\n",
       "12268537  2021     11     TAM      SBVT    SBUL         742.0      3\n",
       "12268538  2021     11     TAM      SBVT    SBUL         925.0      2\n",
       "12268539  2021     11     TAM      SBVT    SBUL        1040.0      2\n",
       "12268540  2021     11     TAM      SBVT    SBUL        1512.0      1\n",
       "12268541  2021     11     TAM      SBVT    SBUL        1623.0      1\n",
       "\n",
       "[12268542 rows x 7 columns]"
      ]
     },
     "execution_count": 99,
     "metadata": {},
     "output_type": "execute_result"
    }
   ],
   "source": [
    "my_df"
   ]
  },
  {
   "cell_type": "markdown",
   "metadata": {},
   "source": [
    "## Focus on the top 3 Airlines (>95% of total traffic)"
   ]
  },
  {
   "cell_type": "code",
   "execution_count": 100,
   "metadata": {},
   "outputs": [
    {
     "data": {
      "text/plain": [
       "Airline\n",
       "AZU    5678856\n",
       "TAM    3493541\n",
       "GLO    3051163\n",
       "Name: count, dtype: int64"
      ]
     },
     "execution_count": 100,
     "metadata": {},
     "output_type": "execute_result"
    }
   ],
   "source": [
    "filtered_df = my_df[my_df['Airline'].isin(['AZU', 'TAM', 'GLO'])]\n",
    "filtered_df['Airline'].value_counts()"
   ]
  },
  {
   "cell_type": "code",
   "execution_count": null,
   "metadata": {},
   "outputs": [],
   "source": [
    "## Group by routes"
   ]
  },
  {
   "cell_type": "code",
   "execution_count": 101,
   "metadata": {},
   "outputs": [
    {
     "data": {
      "text/plain": [
       "Departure  Arrival  Price in BRL\n",
       "SBAC       SBAE     482.900000      1\n",
       "SBSI       SBJA     2070.450000     1\n",
       "           SBFL     1312.548961     1\n",
       "           SBFN     923.900000      1\n",
       "           SBFZ     1218.405891     1\n",
       "                                   ..\n",
       "SBIZ       SBMA     2062.780000     1\n",
       "           SBME     755.566667      1\n",
       "           SBMG     1031.446380     1\n",
       "           SBMK     1134.519660     1\n",
       "SWYN       SBSN     2434.900000     1\n",
       "Name: count, Length: 12870, dtype: int64"
      ]
     },
     "execution_count": 101,
     "metadata": {},
     "output_type": "execute_result"
    }
   ],
   "source": [
    "route_group = filtered_df.groupby([\"Departure\", \"Arrival\"])['Price in BRL'].mean().reset_index()\n",
    "#route_group.sort_values(by='Price in BRL', ascending=False)\n",
    "route_group.value_counts()"
   ]
  },
  {
   "cell_type": "code",
   "execution_count": 102,
   "metadata": {},
   "outputs": [],
   "source": [
    "departure_airports = filtered_df['Departure'].value_counts()\n",
    "#sns.histplot(filtered_df['Departure'])"
   ]
  },
  {
   "cell_type": "code",
   "execution_count": 103,
   "metadata": {},
   "outputs": [],
   "source": [
    "# Grouping by routes (Departure and Arrival)\n",
    "route_summary = filtered_df.groupby([\"Departure\", \"Arrival\"]).agg(\n",
    "    total_seats=(\"Seats\", \"sum\"),\n",
    "    median_price=(\"Price in BRL\", \"median\")\n",
    ").reset_index()\n",
    "route_summary = route_summary[route_summary['total_seats'] > 3000]"
   ]
  },
  {
   "cell_type": "code",
   "execution_count": 104,
   "metadata": {},
   "outputs": [],
   "source": [
    "# Filter out routes where total_seats < 3000\n",
    "Threshold = 3000\n",
    "filtered_routes = route_summary[route_summary['total_seats'] > Threshold][[\"Departure\", \"Arrival\"]]\n",
    "\n",
    "# Merge the original DataFrame with the filtered routes to keep only matching pairs\n",
    "cleaned_df = pd.merge(\n",
    "    filtered_df,\n",
    "    filtered_routes,\n",
    "    on=[\"Departure\", \"Arrival\"],\n",
    "    how=\"inner\"  # Ensures only matching routes are retained\n",
    ")"
   ]
  },
  {
   "cell_type": "code",
   "execution_count": 105,
   "metadata": {},
   "outputs": [
    {
     "data": {
      "text/html": [
       "<div>\n",
       "<style scoped>\n",
       "    .dataframe tbody tr th:only-of-type {\n",
       "        vertical-align: middle;\n",
       "    }\n",
       "\n",
       "    .dataframe tbody tr th {\n",
       "        vertical-align: top;\n",
       "    }\n",
       "\n",
       "    .dataframe thead th {\n",
       "        text-align: right;\n",
       "    }\n",
       "</style>\n",
       "<table border=\"1\" class=\"dataframe\">\n",
       "  <thead>\n",
       "    <tr style=\"text-align: right;\">\n",
       "      <th></th>\n",
       "      <th>Departure</th>\n",
       "      <th>Arrival</th>\n",
       "      <th>total_seats</th>\n",
       "      <th>median_price</th>\n",
       "    </tr>\n",
       "  </thead>\n",
       "  <tbody>\n",
       "    <tr>\n",
       "      <th>3643</th>\n",
       "      <td>SBGR</td>\n",
       "      <td>SBCJ</td>\n",
       "      <td>3221</td>\n",
       "      <td>1422.900</td>\n",
       "    </tr>\n",
       "    <tr>\n",
       "      <th>8163</th>\n",
       "      <td>SBRJ</td>\n",
       "      <td>SBFN</td>\n",
       "      <td>11102</td>\n",
       "      <td>1385.890</td>\n",
       "    </tr>\n",
       "    <tr>\n",
       "      <th>1707</th>\n",
       "      <td>SBCJ</td>\n",
       "      <td>SBGR</td>\n",
       "      <td>3005</td>\n",
       "      <td>1382.900</td>\n",
       "    </tr>\n",
       "    <tr>\n",
       "      <th>2808</th>\n",
       "      <td>SBEG</td>\n",
       "      <td>SWEI</td>\n",
       "      <td>3541</td>\n",
       "      <td>1367.900</td>\n",
       "    </tr>\n",
       "    <tr>\n",
       "      <th>1692</th>\n",
       "      <td>SBCJ</td>\n",
       "      <td>SBCF</td>\n",
       "      <td>16248</td>\n",
       "      <td>1364.900</td>\n",
       "    </tr>\n",
       "    <tr>\n",
       "      <th>...</th>\n",
       "      <td>...</td>\n",
       "      <td>...</td>\n",
       "      <td>...</td>\n",
       "      <td>...</td>\n",
       "    </tr>\n",
       "    <tr>\n",
       "      <th>11397</th>\n",
       "      <td>SNJD</td>\n",
       "      <td>SBRF</td>\n",
       "      <td>3499</td>\n",
       "      <td>301.900</td>\n",
       "    </tr>\n",
       "    <tr>\n",
       "      <th>3708</th>\n",
       "      <td>SBGR</td>\n",
       "      <td>SBSR</td>\n",
       "      <td>33688</td>\n",
       "      <td>301.875</td>\n",
       "    </tr>\n",
       "    <tr>\n",
       "      <th>8095</th>\n",
       "      <td>SBRF</td>\n",
       "      <td>SNJD</td>\n",
       "      <td>3459</td>\n",
       "      <td>296.900</td>\n",
       "    </tr>\n",
       "    <tr>\n",
       "      <th>6669</th>\n",
       "      <td>SBPA</td>\n",
       "      <td>SBSM</td>\n",
       "      <td>6866</td>\n",
       "      <td>277.900</td>\n",
       "    </tr>\n",
       "    <tr>\n",
       "      <th>8810</th>\n",
       "      <td>SBSM</td>\n",
       "      <td>SBPA</td>\n",
       "      <td>7098</td>\n",
       "      <td>268.440</td>\n",
       "    </tr>\n",
       "  </tbody>\n",
       "</table>\n",
       "<p>1676 rows × 4 columns</p>\n",
       "</div>"
      ],
      "text/plain": [
       "      Departure Arrival  total_seats  median_price\n",
       "3643       SBGR    SBCJ         3221      1422.900\n",
       "8163       SBRJ    SBFN        11102      1385.890\n",
       "1707       SBCJ    SBGR         3005      1382.900\n",
       "2808       SBEG    SWEI         3541      1367.900\n",
       "1692       SBCJ    SBCF        16248      1364.900\n",
       "...         ...     ...          ...           ...\n",
       "11397      SNJD    SBRF         3499       301.900\n",
       "3708       SBGR    SBSR        33688       301.875\n",
       "8095       SBRF    SNJD         3459       296.900\n",
       "6669       SBPA    SBSM         6866       277.900\n",
       "8810       SBSM    SBPA         7098       268.440\n",
       "\n",
       "[1676 rows x 4 columns]"
      ]
     },
     "execution_count": 105,
     "metadata": {},
     "output_type": "execute_result"
    }
   ],
   "source": [
    "route_summary.sort_values(by='median_price',ascending=False)"
   ]
  },
  {
   "cell_type": "code",
   "execution_count": 106,
   "metadata": {},
   "outputs": [],
   "source": [
    "cleaned_df\n",
    "cleaned_df[\"Date\"] = pd.to_datetime(cleaned_df[[\"Year\", \"Month\"]].assign(Day=1))\n"
   ]
  },
  {
   "cell_type": "code",
   "execution_count": 107,
   "metadata": {},
   "outputs": [],
   "source": [
    "cleaned_df.drop(columns='Year',inplace=True)\n",
    "cleaned_df.drop(columns='Month',inplace=True)"
   ]
  },
  {
   "cell_type": "code",
   "execution_count": null,
   "metadata": {},
   "outputs": [
    {
     "name": "stdout",
     "output_type": "stream",
     "text": [
      "<class 'pandas.core.frame.DataFrame'>\n",
      "RangeIndex: 10768605 entries, 0 to 10768604\n",
      "Data columns (total 6 columns):\n",
      " #   Column        Dtype         \n",
      "---  ------        -----         \n",
      " 0   Airline       object        \n",
      " 1   Departure     object        \n",
      " 2   Arrival       object        \n",
      " 3   Price in BRL  float64       \n",
      " 4   Seats         int64         \n",
      " 5   Date          datetime64[ns]\n",
      "dtypes: datetime64[ns](1), float64(1), int64(1), object(3)\n",
      "memory usage: 492.9+ MB\n"
     ]
    }
   ],
   "source": [
    "cleaned_df\n",
    "cleaned_df.info() # check the Date is a datetime type\n",
    "cleaned_df.sort_values(by='Date',ascending=False, inplace=True)"
   ]
  },
  {
   "cell_type": "markdown",
   "metadata": {},
   "source": [
    "# We have > 1'500 different routes considered, split across > 10mio flights recorded "
   ]
  },
  {
   "cell_type": "markdown",
   "metadata": {},
   "source": [
    "## Baseline model: we compute the median for each route and store it in our y_pred column\n",
    "1 - Train-Test Split 80-20% "
   ]
  },
  {
   "cell_type": "code",
   "execution_count": null,
   "metadata": {},
   "outputs": [
    {
     "name": "stdout",
     "output_type": "stream",
     "text": [
      "Training data shape: (588568, 7)\n",
      "Testing data shape: (1565153, 7)\n"
     ]
    },
    {
     "data": {
      "text/html": [
       "<div>\n",
       "<style scoped>\n",
       "    .dataframe tbody tr th:only-of-type {\n",
       "        vertical-align: middle;\n",
       "    }\n",
       "\n",
       "    .dataframe tbody tr th {\n",
       "        vertical-align: top;\n",
       "    }\n",
       "\n",
       "    .dataframe thead th {\n",
       "        text-align: right;\n",
       "    }\n",
       "</style>\n",
       "<table border=\"1\" class=\"dataframe\">\n",
       "  <thead>\n",
       "    <tr style=\"text-align: right;\">\n",
       "      <th></th>\n",
       "      <th>Airline</th>\n",
       "      <th>Departure</th>\n",
       "      <th>Arrival</th>\n",
       "      <th>Price in BRL</th>\n",
       "      <th>Seats</th>\n",
       "      <th>Date</th>\n",
       "      <th>median_price</th>\n",
       "    </tr>\n",
       "  </thead>\n",
       "  <tbody>\n",
       "    <tr>\n",
       "      <th>0</th>\n",
       "      <td>TAM</td>\n",
       "      <td>SBBR</td>\n",
       "      <td>SBGL</td>\n",
       "      <td>584.90</td>\n",
       "      <td>5</td>\n",
       "      <td>2021-01-01</td>\n",
       "      <td>520.900</td>\n",
       "    </tr>\n",
       "    <tr>\n",
       "      <th>1</th>\n",
       "      <td>GLO</td>\n",
       "      <td>SBSP</td>\n",
       "      <td>SBMO</td>\n",
       "      <td>299.00</td>\n",
       "      <td>21</td>\n",
       "      <td>2021-01-01</td>\n",
       "      <td>892.675</td>\n",
       "    </tr>\n",
       "    <tr>\n",
       "      <th>2</th>\n",
       "      <td>GLO</td>\n",
       "      <td>SBSP</td>\n",
       "      <td>SBMO</td>\n",
       "      <td>384.00</td>\n",
       "      <td>6</td>\n",
       "      <td>2021-01-01</td>\n",
       "      <td>892.675</td>\n",
       "    </tr>\n",
       "    <tr>\n",
       "      <th>3</th>\n",
       "      <td>GLO</td>\n",
       "      <td>SBSP</td>\n",
       "      <td>SBMO</td>\n",
       "      <td>435.14</td>\n",
       "      <td>1</td>\n",
       "      <td>2021-01-01</td>\n",
       "      <td>892.675</td>\n",
       "    </tr>\n",
       "    <tr>\n",
       "      <th>4</th>\n",
       "      <td>GLO</td>\n",
       "      <td>SBSP</td>\n",
       "      <td>SBMO</td>\n",
       "      <td>402.90</td>\n",
       "      <td>11</td>\n",
       "      <td>2021-01-01</td>\n",
       "      <td>892.675</td>\n",
       "    </tr>\n",
       "    <tr>\n",
       "      <th>...</th>\n",
       "      <td>...</td>\n",
       "      <td>...</td>\n",
       "      <td>...</td>\n",
       "      <td>...</td>\n",
       "      <td>...</td>\n",
       "      <td>...</td>\n",
       "      <td>...</td>\n",
       "    </tr>\n",
       "    <tr>\n",
       "      <th>2153716</th>\n",
       "      <td>AZU</td>\n",
       "      <td>SBNF</td>\n",
       "      <td>SBCF</td>\n",
       "      <td>1283.90</td>\n",
       "      <td>1</td>\n",
       "      <td>2021-08-01</td>\n",
       "      <td>543.890</td>\n",
       "    </tr>\n",
       "    <tr>\n",
       "      <th>2153717</th>\n",
       "      <td>AZU</td>\n",
       "      <td>SBNF</td>\n",
       "      <td>SBCF</td>\n",
       "      <td>632.89</td>\n",
       "      <td>1</td>\n",
       "      <td>2021-08-01</td>\n",
       "      <td>543.890</td>\n",
       "    </tr>\n",
       "    <tr>\n",
       "      <th>2153718</th>\n",
       "      <td>AZU</td>\n",
       "      <td>SBNF</td>\n",
       "      <td>SBCF</td>\n",
       "      <td>618.90</td>\n",
       "      <td>2</td>\n",
       "      <td>2021-08-01</td>\n",
       "      <td>543.890</td>\n",
       "    </tr>\n",
       "    <tr>\n",
       "      <th>2153719</th>\n",
       "      <td>AZU</td>\n",
       "      <td>SBNF</td>\n",
       "      <td>SBCF</td>\n",
       "      <td>1073.90</td>\n",
       "      <td>1</td>\n",
       "      <td>2021-08-01</td>\n",
       "      <td>543.890</td>\n",
       "    </tr>\n",
       "    <tr>\n",
       "      <th>2153720</th>\n",
       "      <td>AZU</td>\n",
       "      <td>SBNF</td>\n",
       "      <td>SBCF</td>\n",
       "      <td>1027.90</td>\n",
       "      <td>1</td>\n",
       "      <td>2021-08-01</td>\n",
       "      <td>543.890</td>\n",
       "    </tr>\n",
       "  </tbody>\n",
       "</table>\n",
       "<p>2153721 rows × 7 columns</p>\n",
       "</div>"
      ],
      "text/plain": [
       "        Airline Departure Arrival  Price in BRL  Seats       Date  \\\n",
       "0           TAM      SBBR    SBGL        584.90      5 2021-01-01   \n",
       "1           GLO      SBSP    SBMO        299.00     21 2021-01-01   \n",
       "2           GLO      SBSP    SBMO        384.00      6 2021-01-01   \n",
       "3           GLO      SBSP    SBMO        435.14      1 2021-01-01   \n",
       "4           GLO      SBSP    SBMO        402.90     11 2021-01-01   \n",
       "...         ...       ...     ...           ...    ...        ...   \n",
       "2153716     AZU      SBNF    SBCF       1283.90      1 2021-08-01   \n",
       "2153717     AZU      SBNF    SBCF        632.89      1 2021-08-01   \n",
       "2153718     AZU      SBNF    SBCF        618.90      2 2021-08-01   \n",
       "2153719     AZU      SBNF    SBCF       1073.90      1 2021-08-01   \n",
       "2153720     AZU      SBNF    SBCF       1027.90      1 2021-08-01   \n",
       "\n",
       "         median_price  \n",
       "0             520.900  \n",
       "1             892.675  \n",
       "2             892.675  \n",
       "3             892.675  \n",
       "4             892.675  \n",
       "...               ...  \n",
       "2153716       543.890  \n",
       "2153717       543.890  \n",
       "2153718       543.890  \n",
       "2153719       543.890  \n",
       "2153720       543.890  \n",
       "\n",
       "[2153721 rows x 7 columns]"
      ]
     },
     "execution_count": 124,
     "metadata": {},
     "output_type": "execute_result"
    }
   ],
   "source": [
    "# Ensure the DataFrame is sorted by date\n",
    "cleaned_df = cleaned_df.sort_values(by=\"Date\").reset_index(drop=True)\n",
    "\n",
    "# Define the split point based on the most recent 12 months\n",
    "# Extract the unique months and count the total months in the dataset\n",
    "unique_dates = cleaned_df[\"Date\"].dt.to_period(\"M\").unique()\n",
    "\n",
    "# Identify the cutoff point for the last 6 months\n",
    "test_start_date = unique_dates[-12].start_time\n",
    "\n",
    "# Split the data into training and testing sets\n",
    "df_train = cleaned_df[cleaned_df[\"Date\"] < test_start_date]\n",
    "df_test = cleaned_df[cleaned_df[\"Date\"] >= test_start_date]\n",
    "\n",
    "# Print shapes to verify\n",
    "print(f\"Training data shape: {df_train.shape}\")\n",
    "print(f\"Testing data shape: {df_test.shape}\")\n",
    "\n",
    "# Calculate median price for each route in the Train Data Set\n",
    "median_baseline = df_train.groupby([\"Departure\", \"Arrival\"]).agg(\n",
    "    median_price=(\"Price in BRL\", \"median\"),\n",
    "    total_seats=(\"Seats\", \"sum\")\n",
    ").reset_index()\n",
    "\n",
    "#median_baseline\n",
    "#unique_dates\n",
    "\n",
    "cleaned_df"
   ]
  },
  {
   "cell_type": "code",
   "execution_count": null,
   "metadata": {},
   "outputs": [
    {
     "name": "stdout",
     "output_type": "stream",
     "text": [
      "  Airline Departure Arrival  Price in BRL  Seats       Date  median_price\n",
      "0     AZU      SBNF    SBCF       1027.90      1 2021-08-01        543.89\n",
      "1     AZU      SBNF    SBBR        906.89      2 2021-08-01        599.90\n",
      "2     AZU      SBNF    SBBR        906.90      3 2021-08-01        599.90\n",
      "3     AZU      SBNF    SBBR        938.89      2 2021-08-01        599.90\n",
      "4     AZU      SBNF    SBBR        938.90      2 2021-08-01        599.90\n"
     ]
    }
   ],
   "source": [
    "# Merge median baseline with df_test\n",
    "df_test = df_test.merge(median_baseline[[\"Departure\", \"Arrival\", \"median_price\"]],\n",
    "              on=[\"Departure\", \"Arrival\"], how=\"left\")\n",
    "\n",
    "print(df_test.head())"
   ]
  },
  {
   "cell_type": "code",
   "execution_count": 118,
   "metadata": {},
   "outputs": [
    {
     "name": "stdout",
     "output_type": "stream",
     "text": [
      "Baseline MAE: 369.11\n"
     ]
    }
   ],
   "source": [
    "# Baseline model evaluation(with MAE)\n",
    "from sklearn.metrics import mean_absolute_error\n",
    "\n",
    "# Evaluate baseline\n",
    "mae_baseline = mean_absolute_error(df_test[\"Price in BRL\"], df_test[\"median_price\"])\n",
    "print(f\"Baseline MAE: {mae_baseline:.2f}\")"
   ]
  }
 ],
 "metadata": {
  "kernelspec": {
   "display_name": "skyenv",
   "language": "python",
   "name": "python3"
  },
  "language_info": {
   "codemirror_mode": {
    "name": "ipython",
    "version": 3
   },
   "file_extension": ".py",
   "mimetype": "text/x-python",
   "name": "python",
   "nbconvert_exporter": "python",
   "pygments_lexer": "ipython3",
   "version": "3.10.6"
  }
 },
 "nbformat": 4,
 "nbformat_minor": 2
}
